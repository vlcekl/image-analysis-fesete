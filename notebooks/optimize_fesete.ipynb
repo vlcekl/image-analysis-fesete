{
 "cells": [
  {
   "cell_type": "markdown",
   "metadata": {},
   "source": [
    "# Optimize effective interactions for Se-Te segregation in bulk Fe$_x$Se$_{1-x}$Te"
   ]
  },
  {
   "cell_type": "markdown",
   "metadata": {},
   "source": [
    "1. Import raw target data (atomic configurations obtained from image analysis, etc.)\n",
    "2. Select an initial set of descriptors (histograms of configurations to match)\n",
    "3. Select an initial model (e.g., zero interactions)\n",
    "4. and generate first reference data for a set of models\n",
    "5. Calculate statistics from the generated data\n",
    "    * statistics relevant for a given interaction model (e.g., numbers of nearest neighbors for total energy)\n",
    "    * statistics of properties to be matched with target (e.g., histograms of local configurations)\n",
    "6. Perform optimization by minimizing statistical distance between target and model properties\n",
    "7. Write new parameters into MC simulation input files\n",
    "8. Run simulation with the optimized model to verify predictions based on the perturbation technique"
   ]
  },
  {
   "cell_type": "markdown",
   "metadata": {},
   "source": [
    "### Notebook setup"
   ]
  },
  {
   "cell_type": "code",
   "execution_count": 1,
   "metadata": {
    "collapsed": true
   },
   "outputs": [],
   "source": [
    "# basic libraries\n",
    "import os, sys\n",
    "import re\n",
    "from itertools import product, permutations, combinations\n",
    "from collections import Counter\n",
    "import numpy as np\n",
    "import scipy.io\n",
    "from scipy.optimize import fmin\n",
    "\n",
    "# plotting\n",
    "%matplotlib inline\n",
    "import matplotlib.pyplot as plt\n",
    "\n",
    "# data handling\n",
    "import pyUSID as usid\n",
    "import h5py\n",
    "#import pandas as pd\n",
    "#import xarray as xr\n",
    "\n",
    "# parallelization\n",
    "from subprocess import Popen, PIPE\n",
    "import multiprocessing as mp"
   ]
  },
  {
   "cell_type": "code",
   "execution_count": 2,
   "metadata": {},
   "outputs": [],
   "source": [
    "# local library\n",
    "sys.path.append('../../../force_fields/statmechlib')\n",
    "from statmechlib.read_write import read_lattice_model, read_modeldef, write_modeldef\n",
    "from statmechlib.preprocessing import get_stats_latt\n",
    "from statmechlib.forcefields import sd2"
   ]
  },
  {
   "cell_type": "code",
   "execution_count": 3,
   "metadata": {},
   "outputs": [],
   "source": [
    "# code development settings (automatically reload modified modules)\n",
    "%load_ext autoreload\n",
    "%autoreload 2"
   ]
  },
  {
   "cell_type": "code",
   "execution_count": 4,
   "metadata": {
    "collapsed": true
   },
   "outputs": [],
   "source": [
    "# project directories\n",
    "data_raw = '../data/raw'\n",
    "src_dir = '../src'\n",
    "sim_dir = '../sim'"
   ]
  },
  {
   "cell_type": "code",
   "execution_count": 5,
   "metadata": {},
   "outputs": [],
   "source": [
    "np.random.seed(42)"
   ]
  },
  {
   "cell_type": "markdown",
   "metadata": {},
   "source": [
    "## 1. Import target data"
   ]
  },
  {
   "cell_type": "code",
   "execution_count": 6,
   "metadata": {},
   "outputs": [
    {
     "data": {
      "image/png": "[encoded data removed]",
      "text/plain": [
       "<Figure size 1440x720 with 2 Axes>"
      ]
     },
     "metadata": {},
     "output_type": "display_data"
    }
   ],
   "source": [
    "# load matlab file with data\n",
    "datafiles = ['fst1.mat', 'fst2.mat']\n",
    "\n",
    "ncols = 2\n",
    "nrows = len(datafiles) // ncols\n",
    "fig, axes = plt.subplots(nrows=nrows, ncols=ncols, figsize=(20,10))\n",
    "\n",
    "configs = []\n",
    "for i, dfile in enumerate(datafiles):\n",
    "    mm = scipy.io.loadmat(os.path.join(data_raw, dfile))\n",
    "    configs.append(np.array(mm['map']))\n",
    "    \n",
    "    ir, ic = divmod(i, ncols)\n",
    "    if nrows == 1:\n",
    "        axes[ic].matshow(configs[-1], cmap = 'hot')\n",
    "    else:\n",
    "        axes[ir, ic].matshow(configs[-1], cmap = 'hot')"
   ]
  },
  {
   "cell_type": "markdown",
   "metadata": {},
   "source": [
    "## 2. Collect histograms of selected local configurations"
   ]
  },
  {
   "cell_type": "markdown",
   "metadata": {},
   "source": [
    "### 2.1 Generate sets of descriptors\n",
    "\n",
    "1. Systematically build configurational descriptors by expanding distance from a central particle NN, NNN, ...\n",
    "2. After collecting histograms, determine symmetries using NMF clustering with stat distance. Do they correspond to physical symmetries?\n",
    "3. Initially assume translational invariance, but later consider distinguishing x, y coordinates and test the symmetry like all other symmetries. Use statistical hypothesis testing to determine the presence of symmetries\n",
    "\n",
    "Note: can we translate this procedure to neural networks (capsule, graph)?"
   ]
  },
  {
   "cell_type": "code",
   "execution_count": 7,
   "metadata": {},
   "outputs": [
    {
     "name": "stdout",
     "output_type": "stream",
     "text": [
      "[(0, 0)]\n",
      "[(-1, 0), (0, -1), (0, 1), (1, 0)]\n",
      "[(-1, -1), (-1, 1), (1, -1), (1, 1)]\n",
      "[(-2, 0), (0, -2), (0, 2), (2, 0)]\n"
     ]
    }
   ],
   "source": [
    "# Structural descriptors\n",
    "\n",
    "# Define a list of absolute {x, y} distances that cover all possible configurations\n",
    "# within two lattice sites in x and y directions.\n",
    "# There are 2**13 possible configurations in this space.\n",
    "# Obviously, there will not be enough data to get reasonable statistics for each configuration,\n",
    "# but it can allow us testing different descriptors and the effect of their coarse-graining\n",
    "\n",
    "neighbor_distances = [(0, 0), (0, 1), (1, 1), (0, 2)]\n",
    "\n",
    "neighbor_types = []\n",
    "for nbr in neighbor_distances:\n",
    "\n",
    "    # create a list of neibhbor coordinates\n",
    "    nbr_list = set()\n",
    "    for i, j in permutations(nbr):\n",
    "        nbr_list.add(( i,  j))\n",
    "        nbr_list.add((-i,  j))\n",
    "        nbr_list.add(( i, -j))\n",
    "        nbr_list.add((-i, -j))\n",
    "\n",
    "    neighbor_types.append(sorted(nbr_list))\n",
    "    \n",
    "    print(neighbor_types[-1])"
   ]
  },
  {
   "cell_type": "code",
   "execution_count": 8,
   "metadata": {},
   "outputs": [],
   "source": [
    "# list of per image local configurations\n",
    "conf_stats = []\n",
    "\n",
    "# cycle over images (overall configurations)\n",
    "for mp in configs:\n",
    "\n",
    "    # list of local configurations obtained from an image\n",
    "    hhh = []\n",
    "    \n",
    "    # cycle over lattice sites\n",
    "    for i, j in product(range(mp.shape[0]), range(mp.shape[1])):\n",
    "\n",
    "        # configuration identifier\n",
    "        cfg = []\n",
    "        \n",
    "        # cycle over different types of neighbors (self, nn, nnn, etc.)\n",
    "        for neighbors in neighbor_types:\n",
    "\n",
    "            # cycle over neighboring sites of a given type\n",
    "            nb = []\n",
    "            for ki, kj in neighbors:\n",
    "\n",
    "                if i+ki < 0 or i+ki >= mp.shape[0]:\n",
    "                    nb.append(-1)\n",
    "                    continue\n",
    "                if j+kj < 0 or j+kj >= mp.shape[1]:\n",
    "                    nb.append(-1)\n",
    "                    continue\n",
    "\n",
    "                # atom type\n",
    "                tt = mp[i+ki, j+kj]\n",
    "\n",
    "                nb.append(tt)\n",
    "                \n",
    "            cfg.append(tuple(nb))\n",
    "\n",
    "        # list of configuration IDs\n",
    "        hhh.append(tuple(cfg)) \n",
    "    \n",
    "    # list of image configurations\n",
    "    conf_stats.append(hhh)"
   ]
  },
  {
   "cell_type": "code",
   "execution_count": 9,
   "metadata": {},
   "outputs": [
    {
     "data": {
      "text/plain": [
       "((1,), (0, 1, 1, 1), (1, 0, 1, 0), (1, 0, 1, 1))"
      ]
     },
     "execution_count": 9,
     "metadata": {},
     "output_type": "execute_result"
    }
   ],
   "source": [
    "# print a sample of configuration ID for configuration 1000 in image 0\n",
    "conf_stats[0][1000]"
   ]
  },
  {
   "cell_type": "code",
   "execution_count": 10,
   "metadata": {},
   "outputs": [],
   "source": [
    "# filter out configurations involving invalid sites (outside image) denoted as -1\n",
    "# not really used later. coarse graining takes care of this\n",
    "conf_clean = []\n",
    "for i, conf in enumerate(conf_stats):\n",
    "    conf_clean.append([t for t in conf if -1 not in t[0]+t[1]+t[2]+t[3]])"
   ]
  },
  {
   "cell_type": "markdown",
   "metadata": {},
   "source": [
    "## 3. Coarse grain into 'reasonable' histogram statistics\n",
    "\n",
    "### 3.1. Coarse-grain by grouping larger configurations with the same near-neighbor configurations"
   ]
  },
  {
   "cell_type": "code",
   "execution_count": 11,
   "metadata": {
    "collapsed": true
   },
   "outputs": [],
   "source": [
    "def coarse_grain(conf, degree=1, clean=True):\n",
    "    \"\"\"\n",
    "    Group configuration sharing a given extent of the neighborhood\n",
    "    of the central particle (e.g., nn, nnn, etc.).\n",
    "    \n",
    "    Parameters\n",
    "    ----------\n",
    "    conf: list\n",
    "          list of configurations\n",
    "    degree: int\n",
    "          degree of neighborhood. Default 1 == nearest neighbors\n",
    "    clean: bool\n",
    "          eliminate configurations containing out of image lattice sites. Default: True\n",
    "          \n",
    "    Returns\n",
    "    -------\n",
    "    conf_cg: list\n",
    "            list of coarse-grained configurations\n",
    "    \"\"\"\n",
    "\n",
    "    conf_cg = []\n",
    "    for t in conf:\n",
    "        c = []\n",
    "        for i in range(degree+1):\n",
    "            if clean and (-1 in t[i]):\n",
    "                break\n",
    "            c.append(t[i])\n",
    "        else:\n",
    "            conf_cg.append(tuple(c))\n",
    "    \n",
    "    return conf_cg"
   ]
  },
  {
   "cell_type": "code",
   "execution_count": 12,
   "metadata": {},
   "outputs": [
    {
     "name": "stdout",
     "output_type": "stream",
     "text": [
      "Number of distinct configurations in image 0 : 32\n",
      "Most frequent configurations in image 0 :\n",
      "0 count: 121 ; configuration: ((1,), (1, 1, 1, 0))\n",
      "1 count: 113 ; configuration: ((1,), (0, 1, 1, 1))\n",
      "2 count: 112 ; configuration: ((1,), (1, 1, 1, 1))\n",
      "3 count: 88 ; configuration: ((0,), (1, 0, 0, 0))\n",
      "4 count: 82 ; configuration: ((1,), (0, 1, 1, 0))\n",
      "Number of distinct configurations in image 1 : 32\n",
      "Most frequent configurations in image 1 :\n",
      "0 count: 258 ; configuration: ((1,), (1, 1, 1, 1))\n",
      "1 count: 165 ; configuration: ((0,), (0, 0, 0, 0))\n",
      "2 count: 97 ; configuration: ((1,), (1, 1, 0, 1))\n",
      "3 count: 84 ; configuration: ((1,), (1, 0, 1, 1))\n",
      "4 count: 82 ; configuration: ((1,), (1, 1, 1, 0))\n"
     ]
    }
   ],
   "source": [
    "# filter out configurations involving invalid sites (outside image) denoted as -1\n",
    "conf_cg = []\n",
    "hist_cg = []\n",
    "for i, conf in enumerate(conf_stats):\n",
    "    \n",
    "    # select configurations of a given degree of coarse graining\n",
    "    conf_cg.append(coarse_grain(conf, degree=1))\n",
    "\n",
    "    # collect histogram in the form of a dict\n",
    "    hist_cg.append(Counter(conf_cg[-1]))\n",
    "    print('Number of distinct configurations in image', i, ':', len(hist_cg[-1]))\n",
    "    \n",
    "    # order configurations in an image by their counts\n",
    "    confs_ordered = [(t[1], t[0]) for t in sorted(hist_cg[-1].items(), key=lambda x: x[-1], reverse=True)]\n",
    "    \n",
    "    # print 5 configurations with highest counts for each image\n",
    "    print('Most frequent configurations in image', i, ':')\n",
    "    for j in range(5):#range(len(confs_ordered)):\n",
    "        print(j, 'count:', confs_ordered[j][0], '; configuration:', confs_ordered[j][1])"
   ]
  },
  {
   "cell_type": "markdown",
   "metadata": {},
   "source": [
    "**Plot configuration histograms for different images**"
   ]
  },
  {
   "cell_type": "code",
   "execution_count": 13,
   "metadata": {},
   "outputs": [
    {
     "name": "stdout",
     "output_type": "stream",
     "text": [
      "32 32\n",
      "32 32\n"
     ]
    },
    {
     "data": {
      "image/png": "[encoded data removed]",
      "text/plain": [
       "<Figure size 1152x768 with 2 Axes>"
      ]
     },
     "metadata": {},
     "output_type": "display_data"
    }
   ],
   "source": [
    "fig, axs = plt.subplots(nrows=1, ncols=2, figsize=(12, 8), dpi = 96)\n",
    "\n",
    "num_samples = {}\n",
    "for i, hist in enumerate(hist_cg):\n",
    "    cfg_labels = [str(key) for key in sorted(hist.keys())]\n",
    "    #counts = target_hist[name]\n",
    "    all_counts = np.array([hist[cfg] for cfg in sorted(hist.keys())])\n",
    "    print(len(cfg_labels), len(all_counts))\n",
    "    n_sample = np.sum(all_counts)\n",
    "    #num_samples[name] = n_sample\n",
    "    all_counts = all_counts/float(n_sample)\n",
    "\n",
    "    ir, ic = divmod(i, 2)\n",
    "    axs[ic].bar(cfg_labels, all_counts)\n",
    "    axs[ic].set_xticklabels(cfg_labels, rotation=90.0)\n",
    "    axs[ic].set_title('Image: ' + str(i) + ', Total number of samples: n = ' + str(n_sample))\n",
    "    \n",
    "plt.tight_layout()\n",
    "plt.show()"
   ]
  },
  {
   "cell_type": "markdown",
   "metadata": {},
   "source": [
    "### 3.2. Further coarse-grain by grouping symmetry related configurations\n",
    "#### 3.2.1 Try to determine symmetry using NMF-based clustering\n",
    "\n",
    "* Output will provide p-values for the presence of a symmetry (in this case only rotational can be expected)"
   ]
  },
  {
   "cell_type": "code",
   "execution_count": 14,
   "metadata": {
    "collapsed": true
   },
   "outputs": [],
   "source": [
    "from sklearn.decomposition import NMF\n",
    "\n",
    "# Create a matrix of probability square roots of the \n",
    "\n",
    "# Factorize under the Frobenius loss function ~ statistical distance\n",
    "\n",
    "# -- Here --"
   ]
  },
  {
   "cell_type": "markdown",
   "metadata": {},
   "source": [
    "## 4. Optimize parameters using CG target configurations"
   ]
  },
  {
   "cell_type": "code",
   "execution_count": 15,
   "metadata": {
    "collapsed": true
   },
   "outputs": [],
   "source": [
    "from scipy.optimize import fmin\n",
    "\n",
    "sys.path.append('../../../force_fields/statmechlib')\n",
    "from statmechlib.read_write import read_lattice_model, read_modeldef, write_modeldef\n",
    "from statmechlib.preprocessing import get_stats_latt\n",
    "from statmechlib.forcefields import sd2\n",
    "\n",
    "from subprocess import Popen, PIPE\n",
    "import multiprocessing as mp"
   ]
  },
  {
   "cell_type": "code",
   "execution_count": 16,
   "metadata": {
    "collapsed": true
   },
   "outputs": [],
   "source": [
    "sim_dir = '../src/code'"
   ]
  },
  {
   "cell_type": "code",
   "execution_count": 17,
   "metadata": {
    "collapsed": true
   },
   "outputs": [],
   "source": [
    "# read reference system parameters into an array\n",
    "def read_mld(data_paths):\n",
    "    pars_ref = {}\n",
    "    for data_path in data_paths:\n",
    "        params = read_modeldef(os.path.join(data_path, 'lg.mld'))\n",
    "        pars_ref[data_path] = np.array([v for v in params['ref_params'].values()]).flatten(order='F')\n",
    "\n",
    "    # check if the force field parameters agree between systems\n",
    "    assert len(set([str(v) for v in pars_ref.values()])) == 1, \"Different parameters\"\n",
    "\n",
    "    return pars_ref[data_paths[0]]"
   ]
  },
  {
   "cell_type": "code",
   "execution_count": 18,
   "metadata": {
    "collapsed": true
   },
   "outputs": [],
   "source": [
    "# read lattice simulation results: configuration statistics and energies\n",
    "def read_outputs(names, dirnames):\n",
    "    trjs = {}\n",
    "    for name, dname in zip(names, dirnames):\n",
    "        trjs[name] = read_lattice_model(dname)\n",
    "    return trjs"
   ]
  },
  {
   "cell_type": "code",
   "execution_count": 19,
   "metadata": {
    "collapsed": true
   },
   "outputs": [],
   "source": [
    "# filter the results (discard initial imin number of configurations)\n",
    "def trajectory_range(trjs, imin=10):\n",
    "\n",
    "    for key in trjs.keys():\n",
    "        trjs[key]['energy'] = trjs[key]['energy'][imin:]\n",
    "        trjs[key]['temp'] = trjs[key]['temp'][imin:]\n",
    "        trjs[key]['interaction_stats'] = trjs[key]['interaction_stats'][imin:]\n",
    "        trjs[key]['config_stats'] = trjs[key]['config_stats'][imin:]\n",
    "\n",
    "    return trjs\n"
   ]
  },
  {
   "cell_type": "code",
   "execution_count": 20,
   "metadata": {
    "collapsed": true
   },
   "outputs": [],
   "source": [
    "def make_reference_histograms(trjs):\n",
    "    \"\"\"\n",
    "    For given trajectories, convert to histograms of symmetrized configurations\n",
    "    \"\"\"\n",
    "    # group symmetric configurations collected from a simulated system based on their unique label\n",
    "    hsv = {}\n",
    "    for name, trj in trjs.items():\n",
    "        # convert to the histograms of symmetrized configurations\n",
    "        old_hist = np.array(trj['config_stats'])\n",
    "        hsv[name] = trans_hist.dot(old_hist.T).T\n",
    "        # normalize = calculate relative frequencies of symmetrized configurations\n",
    "        for i in range(hsv[name].shape[0]):\n",
    "            sm = np.sum(hsv[name][i,:])\n",
    "            hsv[name][i,:] = hsv[name][i,:]/sm\n",
    "\n",
    "    return hsv"
   ]
  },
  {
   "cell_type": "code",
   "execution_count": 21,
   "metadata": {
    "collapsed": true
   },
   "outputs": [],
   "source": [
    "# filter the results (discard initial configurations)\n",
    "def make_energy_statistics(trjs):\n",
    "    hsu = {}\n",
    "    for name, trj in trjs.items():\n",
    "        # flatten the array column by column (Fortran style 'F')\n",
    "        hsu[name] = np.array([np.array(ar).flatten(order='F') for ar in trj['interaction_stats']])\n",
    "    return hsu"
   ]
  },
  {
   "cell_type": "code",
   "execution_count": 22,
   "metadata": {
    "collapsed": true
   },
   "outputs": [],
   "source": [
    "# get relative frequencies of symmetrized surface local configurations averaged over all 'image' configurations\n",
    "def make_average_histograms(names):\n",
    "    hsv_ave = {}\n",
    "    for name in names:\n",
    "        histave = []\n",
    "        for i in range(hsv[name].shape[1]):\n",
    "            histave.append(sum(hsv[name][:,i])/float(hsv[name].shape[0]))\n",
    "        hsv_ave[name] = np.array(histave)\n",
    "\n",
    "    return hsv_ave"
   ]
  },
  {
   "cell_type": "code",
   "execution_count": 23,
   "metadata": {
    "collapsed": true
   },
   "outputs": [],
   "source": [
    "# Assemble target data structures\n",
    "def make_targets(gsv, num_samples):\n",
    "    targets = {}\n",
    "    for name in gsv.keys():\n",
    "        # target\n",
    "        targ = {}\n",
    "        targ['config_stats'] = gsv[name]\n",
    "        targ['weight'] = num_samples[name]/sum(num_samples.values())\n",
    "        targets[name] = targ\n",
    "\n",
    "    return targets"
   ]
  },
  {
   "cell_type": "code",
   "execution_count": 24,
   "metadata": {
    "collapsed": true
   },
   "outputs": [],
   "source": [
    "# Assemble reference data structures\n",
    "def make_stats(trjs, hsu, hsv):\n",
    "    stats = {}\n",
    "    for name in trjs.keys():\n",
    "        # reference data\n",
    "        stat = {}\n",
    "        stat['config_stats'] = hsv[name]\n",
    "        stat['interaction_stats'] = hsu[name]\n",
    "        stat['energy'] = np.array(trjs[name]['energy'])\n",
    "        stat['temp'] = np.array(trjs[name]['temp'])\n",
    "        stats[name] = stat\n",
    "\n",
    "    return stats"
   ]
  },
  {
   "cell_type": "code",
   "execution_count": 25,
   "metadata": {},
   "outputs": [
    {
     "ename": "NameError",
     "evalue": "name 'names' is not defined",
     "output_type": "error",
     "traceback": [
      "\u001b[0;31m---------------------------------------------------------------------------\u001b[0m",
      "\u001b[0;31mNameError\u001b[0m                                 Traceback (most recent call last)",
      "\u001b[0;32m<ipython-input-25-22f903366eb8>\u001b[0m in \u001b[0;36m<module>\u001b[0;34m()\u001b[0m\n\u001b[1;32m      1\u001b[0m \u001b[0mgsv\u001b[0m \u001b[0;34m=\u001b[0m \u001b[0;34m{\u001b[0m\u001b[0;34m}\u001b[0m\u001b[0;34m\u001b[0m\u001b[0m\n\u001b[0;32m----> 2\u001b[0;31m \u001b[0;32mfor\u001b[0m \u001b[0mi\u001b[0m\u001b[0;34m,\u001b[0m \u001b[0mname\u001b[0m \u001b[0;32min\u001b[0m \u001b[0menumerate\u001b[0m\u001b[0;34m(\u001b[0m\u001b[0mnames\u001b[0m\u001b[0;34m)\u001b[0m\u001b[0;34m:\u001b[0m\u001b[0;34m\u001b[0m\u001b[0m\n\u001b[0m\u001b[1;32m      3\u001b[0m     \u001b[0mcounts\u001b[0m \u001b[0;34m=\u001b[0m \u001b[0mtarget_hist\u001b[0m\u001b[0;34m[\u001b[0m\u001b[0mname\u001b[0m\u001b[0;34m]\u001b[0m\u001b[0;34m\u001b[0m\u001b[0m\n\u001b[1;32m      4\u001b[0m     \u001b[0mall_counts\u001b[0m \u001b[0;34m=\u001b[0m \u001b[0mnp\u001b[0m\u001b[0;34m.\u001b[0m\u001b[0marray\u001b[0m\u001b[0;34m(\u001b[0m\u001b[0;34m[\u001b[0m\u001b[0mcounts\u001b[0m\u001b[0;34m.\u001b[0m\u001b[0mget\u001b[0m\u001b[0;34m(\u001b[0m\u001b[0mcfg\u001b[0m\u001b[0;34m,\u001b[0m \u001b[0;36m0\u001b[0m\u001b[0;34m)\u001b[0m \u001b[0;32mfor\u001b[0m \u001b[0mcfg\u001b[0m \u001b[0;32min\u001b[0m \u001b[0mcfg_types\u001b[0m\u001b[0;34m]\u001b[0m\u001b[0;34m)\u001b[0m\u001b[0;34m\u001b[0m\u001b[0m\n\u001b[1;32m      5\u001b[0m     \u001b[0mn_sample\u001b[0m \u001b[0;34m=\u001b[0m \u001b[0mnp\u001b[0m\u001b[0;34m.\u001b[0m\u001b[0msum\u001b[0m\u001b[0;34m(\u001b[0m\u001b[0mall_counts\u001b[0m\u001b[0;34m)\u001b[0m\u001b[0;34m\u001b[0m\u001b[0m\n",
      "\u001b[0;31mNameError\u001b[0m: name 'names' is not defined"
     ]
    }
   ],
   "source": [
    "gsv = {}\n",
    "for i, name in enumerate(names):\n",
    "    counts = target_hist[name]\n",
    "    all_counts = np.array([counts.get(cfg, 0) for cfg in cfg_types])\n",
    "    n_sample = np.sum(all_counts)\n",
    "    all_counts = all_counts/float(n_sample)\n",
    "    gsv[name] = all_counts"
   ]
  },
  {
   "cell_type": "code",
   "execution_count": 35,
   "metadata": {
    "collapsed": true
   },
   "outputs": [],
   "source": [
    "def optimize_params(data):#par_in, stat, target):\n",
    "    par_in = data['params']\n",
    "    stat = data['stats']\n",
    "    target = data['targets']\n",
    "    print('# Start sd2 =', sd2(par_in, stat, target))\n",
    "    print('# Starting parameters:', par_in)\n",
    "    output = fmin(sd2, par_in, args=(stat, target), maxiter=100000, maxfun=10000, disp=0, full_output=1)\n",
    "    print('\\n# End sd2 =', output[1])\n",
    "    p_out = output[0]\n",
    "    print('# Final parameters:', p_out)\n",
    "    return p_out, output[1]"
   ]
  },
  {
   "cell_type": "code",
   "execution_count": 51,
   "metadata": {},
   "outputs": [
    {
     "name": "stdout",
     "output_type": "stream",
     "text": [
      "{0: ('re55',)}\n"
     ]
    }
   ],
   "source": [
    "# define data sets for which parameters will be optimized\n",
    "from itertools import combinations\n",
    "# full set of systems\n",
    "datasets = {0:tuple(names)}\n",
    "# partial sets of systems\n",
    "datasets.update({i:s for i, s in enumerate(combinations(names, 3), 1)})\n",
    "datasets = {0:('re55',)}\n",
    "print(datasets)"
   ]
  },
  {
   "cell_type": "code",
   "execution_count": 26,
   "metadata": {},
   "outputs": [
    {
     "ename": "NameError",
     "evalue": "name 'datasets' is not defined",
     "output_type": "error",
     "traceback": [
      "\u001b[0;31m---------------------------------------------------------------------------\u001b[0m",
      "\u001b[0;31mNameError\u001b[0m                                 Traceback (most recent call last)",
      "\u001b[0;32m<ipython-input-26-36df10974e8d>\u001b[0m in \u001b[0;36m<module>\u001b[0;34m()\u001b[0m\n\u001b[1;32m      4\u001b[0m \u001b[0;34m\u001b[0m\u001b[0m\n\u001b[1;32m      5\u001b[0m     \u001b[0minput_data\u001b[0m \u001b[0;34m=\u001b[0m \u001b[0;34m[\u001b[0m\u001b[0;34m]\u001b[0m\u001b[0;34m\u001b[0m\u001b[0m\n\u001b[0;32m----> 6\u001b[0;31m     \u001b[0;32mfor\u001b[0m \u001b[0mkey\u001b[0m \u001b[0;32min\u001b[0m \u001b[0mrange\u001b[0m\u001b[0;34m(\u001b[0m\u001b[0mlen\u001b[0m\u001b[0;34m(\u001b[0m\u001b[0mdatasets\u001b[0m\u001b[0;34m)\u001b[0m\u001b[0;34m)\u001b[0m\u001b[0;34m:\u001b[0m\u001b[0;34m\u001b[0m\u001b[0m\n\u001b[0m\u001b[1;32m      7\u001b[0m     \u001b[0;31m#for key, dset in datasets.items():\u001b[0m\u001b[0;34m\u001b[0m\u001b[0;34m\u001b[0m\u001b[0m\n\u001b[1;32m      8\u001b[0m         \u001b[0mdset\u001b[0m \u001b[0;34m=\u001b[0m \u001b[0mdatasets\u001b[0m\u001b[0;34m[\u001b[0m\u001b[0mkey\u001b[0m\u001b[0;34m]\u001b[0m\u001b[0;34m\u001b[0m\u001b[0m\n",
      "\u001b[0;31mNameError\u001b[0m: name 'datasets' is not defined"
     ]
    }
   ],
   "source": [
    "# number of optimization iterations\n",
    "n_iter = 5\n",
    "for it in range(n_iter):\n",
    "    \n",
    "    input_data = []\n",
    "    for key in range(len(datasets)):\n",
    "    #for key, dset in datasets.items():\n",
    "        dset = datasets[key]\n",
    "        \n",
    "        # directory names\n",
    "        dirnames = [str(key) + '_' + s for s in dset]\n",
    "        data_paths = [os.path.join(sim_dir, dname) for dname in dirnames]\n",
    "\n",
    "        # get reference parameters\n",
    "        pars_ref = read_mld(data_paths)\n",
    "        pars_in = np.array([pars_ref[1], pars_ref[4]])\n",
    "        \n",
    "        # read reference data\n",
    "        trjs = read_outputs(dset, data_paths)\n",
    "        \n",
    "        #pool = mp.Pool()\n",
    "        #trj_list = pool.map(read_lattice_model, data_paths)\n",
    "        #trjs = dict(zip(dset, trj_list))\n",
    "        \n",
    "        # select the equilibrated part of the trajectories\n",
    "        trjs = trajectory_range(trjs, imin=1000)\n",
    "        \n",
    "        # get histograms of symmetrized configurations\n",
    "        hsv = make_reference_histograms(trjs)\n",
    "\n",
    "        # get statistics of for lattice model energetics\n",
    "        hsu = make_energy_statistics(trjs)\n",
    "        \n",
    "        # make targets and statistics for optimization with selected names\n",
    "        targets = make_targets(gsv, num_samples)\n",
    "        stats = make_stats(trjs, hsu, hsv)\n",
    "        print(stats.keys())\n",
    "        \n",
    "        # select statistics and targets relevant for dset \n",
    "        stats_opt = {s:stats[s] for s in dset}\n",
    "        targets_opt = {s:targets[s] for s in dset}\n",
    "        \n",
    "        # optimize parameters\n",
    "        input_data.append({'params':pars_in, 'stats':stats_opt, 'targets':targets_opt})\n",
    "\n",
    "        #oputput_data = optimize_params(input_data)#pars_in, stats_opt, targets_opt)\n",
    "\n",
    "    pool = mp.Pool()\n",
    "    output_data = pool.map(optimize_params, input_data)\n",
    "\n",
    "    # write model definition files with new parameters\n",
    "    for key in range(len(datasets)):\n",
    "        dset = datasets[0] # make parameter files for _all_ systems\n",
    "        \n",
    "        # directory names\n",
    "        dirnames = [str(key) + '_' + s for s in dset]\n",
    "        data_paths = [os.path.join(sim_dir, dname) for dname in dirnames]\n",
    "\n",
    "        # set new parameters\n",
    "        p_out = output_data[key][0]\n",
    "        pars = [0., p_out[0], 0., 0., p_out[1], 0.]\n",
    "\n",
    "        # write model definition file into a simulation directory\n",
    "        for data_path in data_paths:\n",
    "            write_modeldef(os.path.join(data_path, 'lg.mld'), pars)\n",
    "\n",
    "    # run simulations\n",
    "    original_dir = os.getcwd()\n",
    "    # go to simulation directory\n",
    "    os.chdir(sim_dir)\n",
    "    \n",
    "    for key in range(len(datasets)):\n",
    "        dset = datasets[0] # run simulations for _all_ systems\n",
    "\n",
    "        # directory names\n",
    "        dirnames = [str(key) + '_' + s for s in dset]\n",
    "    \n",
    "        proc_list = []\n",
    "        fout_list = []\n",
    "\n",
    "        for name, dname in zip(dset, dirnames):\n",
    "            os.chdir('./'+dname)\n",
    "        \n",
    "            fout = open('lg.run', 'w')\n",
    "            fin = open(name+'.inp', 'r')\n",
    "        \n",
    "            proc_list.append(Popen('./lg', stdin=fin, stdout=fout, stderr=PIPE))\n",
    "        \n",
    "            fin.close()\n",
    "            fout_list.append(fout) \n",
    "            os.chdir('..')\n",
    "\n",
    "        for proc, fout in zip(proc_list, fout_list):\n",
    "            proc.wait()\n",
    "            fout.close()\n",
    "    \n",
    "    # go back to notebook directory\n",
    "    os.chdir(original_dir)"
   ]
  },
  {
   "cell_type": "markdown",
   "metadata": {},
   "source": [
    "0.07051797 -0.27910435\n",
    "\n",
    "0.02054406 -0.50064873\n",
    "\n",
    "0.06463121 -0.22251215 0.018662095932150156\n",
    "\n",
    "0.02972088 -0.30352361 0.018200443606690948\n",
    "\n",
    "0.10573289 -0.45494785 0.01816080620437813"
   ]
  },
  {
   "cell_type": "code",
   "execution_count": 54,
   "metadata": {},
   "outputs": [
    {
     "name": "stdout",
     "output_type": "stream",
     "text": [
      "Reading ../src/code/r_re55/lg.hst\n",
      "Reading ../src/code/r_re55/lg.run\n",
      "hsv.shape re55 (39001, 26)\n",
      "n_eff: 2097.8423525777343\n",
      "dict_keys(['re55'])\n",
      "----MODEL: re55 -----\n",
      "Total statistical distance:  0.0082469666962364\n",
      "z-coeff: 1.3772444736263683\n",
      "p-value: 0.08421833801765571\n",
      "Statistical distance for re55:  0.0082469666962364\n",
      "z-coeff: 1.3772444736263683\n",
      "p-value: 0.08421833801765571\n",
      "Reading ../src/code/0_re55/lg.hst\n",
      "Reading ../src/code/0_re55/lg.run\n",
      "hsv.shape re55 (39001, 26)\n",
      "n_eff: 2156.1502178957858\n",
      "dict_keys(['re55'])\n",
      "----MODEL: re55 -----\n",
      "Total statistical distance:  0.007800196474996424\n",
      "z-coeff: 1.3394197210916292\n",
      "p-value: 0.09021703641186335\n",
      "Statistical distance for re55:  0.007800196474996424\n",
      "z-coeff: 1.3394197210916292\n",
      "p-value: 0.09021703641186335\n"
     ]
    }
   ],
   "source": [
    "from scipy.stats import norm\n",
    "\n",
    "dset = datasets[0]\n",
    "input_data = []\n",
    "\n",
    "for key in ['r_', '0_']:\n",
    "#for key in ['1_', '2_', '3_', '4_']:\n",
    "\n",
    "        \n",
    "    # directory names\n",
    "    dirnames = [key + s for s in dset]\n",
    "    data_paths = [os.path.join(sim_dir, dname) for dname in dirnames]\n",
    "\n",
    "    # get reference parameters\n",
    "    pars_ref = read_mld(data_paths)\n",
    "    pars_in = np.array([pars_ref[1], pars_ref[4]])\n",
    "        \n",
    "    # read reference data\n",
    "    trjs = read_outputs(dset, data_paths)\n",
    "\n",
    "    #pool = mp.Pool()\n",
    "    #trj_list = pool.map(read_lattice_model, data_paths)\n",
    "    #trjs = dict(zip(dset, trj_list))\n",
    "        \n",
    "    # select the equilibrated part of the trajectories\n",
    "    trjs = trajectory_range(trjs, imin=1000)\n",
    "        \n",
    "    # get histograms of symmetrized configurations\n",
    "    hsv = make_reference_histograms(trjs)\n",
    "    for key, val in hsv.items():\n",
    "        print('hsv.shape', key, val.shape)\n",
    "        print('n_eff:', n_effective(val))\n",
    "\n",
    "    # get statistics of for lattice model energetics\n",
    "    hsu = make_energy_statistics(trjs)\n",
    "        \n",
    "    # make targets and statistics for optimization with selected names\n",
    "    targets = make_targets(gsv, num_samples)\n",
    "    stats = make_stats(trjs, hsu, hsv)\n",
    "    print(stats.keys())\n",
    "\n",
    "    # select statistics and targets relevant for dset \n",
    "    stats_opt = {s:stats[s] for s in dset}\n",
    "    targets_opt = {s:targets[s] for s in dset}\n",
    "        \n",
    "    # optimize parameters\n",
    "    input_data.append({'params':pars_in, 'stats':stats_opt, 'targets':targets_opt})\n",
    "        \n",
    "    s2 = sd2(pars_in, stats_opt, targets_opt)\n",
    "    print('----MODEL:', key, '-----')\n",
    "    print('Total statistical distance: ', s2)\n",
    "    z_coeff = np.sqrt(460.0*s2/2.0)\n",
    "    print('z-coeff:', z_coeff)\n",
    "    p_value = norm.sf(z_coeff)\n",
    "    print('p-value:', p_value)\n",
    "\n",
    "    for s in dset:\n",
    "        stats_opt = {s:stats[s]} \n",
    "        targets_opt = {s:targets[s]}\n",
    "        \n",
    "        s2 = sd2(pars_in, stats_opt, targets_opt)\n",
    "        print(f'Statistical distance for {s}: ', s2)\n",
    "        z_coeff = np.sqrt(460.0*s2/2.0)\n",
    "        print('z-coeff:', z_coeff)\n",
    "        p_value = norm.sf(z_coeff)\n",
    "        print('p-value:', p_value)"
   ]
  },
  {
   "cell_type": "markdown",
   "metadata": {},
   "source": [
    "## X. Calculation of the effective number of parameters"
   ]
  },
  {
   "cell_type": "code",
   "execution_count": 27,
   "metadata": {
    "collapsed": true
   },
   "outputs": [],
   "source": [
    "def corr_cov(data_matrix, output='corr'):\n",
    "    \"\"\"\n",
    "    Calculates correlation matrix for n_exp multinomial experiments with n samples each\n",
    "    resulting in k possible states.\n",
    "\n",
    "    Parameters\n",
    "    ----------\n",
    "    data_matrix: ndarray((n_exp, k), dtype=float)\n",
    "                 data matrix of n_exp experiments with results in k histogram bins (states)\n",
    "    output: str\n",
    "            defines whether correlation ('corr' - default) or covariance ('cov') matrix is returned\n",
    "\n",
    "    Returns\n",
    "    -------\n",
    "    corr_mat: ndarray((k, k), dtype=float)\n",
    "            correlation matrix \n",
    "                 \n",
    "    \"\"\"\n",
    "    \n",
    "    n_exp = data_matrix.shape[0]\n",
    "\n",
    "    # calculate averages of the columns\n",
    "    averages = np.stack([np.mean(data_matrix, axis=0)]*n_exp, axis=0)\n",
    "    \n",
    "    # data deviations from averages\n",
    "    data_centered = data_matrix - averages\n",
    "    \n",
    "    # calculate covariance matrix\n",
    "    cov_mat = data_centered.T.dot(data_centered)/(n_exp - 1.)\n",
    "    \n",
    "    if output == 'cov':\n",
    "        return cov_mat\n",
    "\n",
    "    # inverse square root variance diagonal matrix\n",
    "    var_srinv = np.sqrt(np.diag(1.0/np.diag(cov_mat)))\n",
    "\n",
    "    # correlation matrix\n",
    "    corr_mat = var_srinv.dot(cov_mat).dot(var_srinv)\n",
    "    \n",
    "    return corr_mat"
   ]
  },
  {
   "cell_type": "code",
   "execution_count": 28,
   "metadata": {
    "collapsed": true
   },
   "outputs": [],
   "source": [
    "def n_effective(data_matrix):\n",
    "    \"\"\"\n",
    "    Calculate the effective number of samples from a data matrix of a multinomial distribution.\n",
    "    Calls corr_cov function to calculate covariance matrix\n",
    "    \n",
    "    Parameters\n",
    "    ----------\n",
    "    data_matrix: ndarray((n_exp, k), dtype=float)\n",
    "                 data matrix of n_exp experiments with results in k histogram bins (states)\n",
    "\n",
    "    Returns\n",
    "    -------\n",
    "    n_eff: float\n",
    "           effective number of samples\n",
    "    \"\"\"\n",
    "    \n",
    "    v = np.diag(corr_cov(data_matrix, output='cov'))\n",
    "    p = np.mean(data_matrix, axis=0)\n",
    "    \n",
    "    # vector of effective sample numbers for each histogram bin\n",
    "    n_eff_vec = p*(1-p)/v\n",
    "    \n",
    "    # mean value (should it be minimum value?)\n",
    "    n_eff = np.mean(n_eff_vec)\n",
    "    #n_eff = np.min(n_eff_vec)\n",
    "    \n",
    "    return n_eff"
   ]
  },
  {
   "cell_type": "code",
   "execution_count": 29,
   "metadata": {},
   "outputs": [
    {
     "ename": "NameError",
     "evalue": "name 'm' is not defined",
     "output_type": "error",
     "traceback": [
      "\u001b[0;31m---------------------------------------------------------------------------\u001b[0m",
      "\u001b[0;31mNameError\u001b[0m                                 Traceback (most recent call last)",
      "\u001b[0;32m<ipython-input-29-773b16307a16>\u001b[0m in \u001b[0;36m<module>\u001b[0;34m()\u001b[0m\n\u001b[0;32m----> 1\u001b[0;31m \u001b[0mmat\u001b[0m \u001b[0;34m=\u001b[0m \u001b[0mnp\u001b[0m\u001b[0;34m.\u001b[0m\u001b[0mrandom\u001b[0m\u001b[0;34m.\u001b[0m\u001b[0mmultinomial\u001b[0m\u001b[0;34m(\u001b[0m\u001b[0mm\u001b[0m\u001b[0;34m,\u001b[0m \u001b[0mhist\u001b[0m\u001b[0;34m,\u001b[0m \u001b[0;34m(\u001b[0m\u001b[0md_img\u001b[0m\u001b[0;34m,\u001b[0m\u001b[0;34m)\u001b[0m\u001b[0;34m)\u001b[0m\u001b[0;34m/\u001b[0m\u001b[0mm\u001b[0m\u001b[0;34m\u001b[0m\u001b[0m\n\u001b[0m\u001b[1;32m      2\u001b[0m \u001b[0;34m\u001b[0m\u001b[0m\n\u001b[1;32m      3\u001b[0m \u001b[0mhist2\u001b[0m \u001b[0;34m=\u001b[0m \u001b[0mnp\u001b[0m\u001b[0;34m.\u001b[0m\u001b[0mcopy\u001b[0m\u001b[0;34m(\u001b[0m\u001b[0mhist\u001b[0m\u001b[0;34m)\u001b[0m\u001b[0;34m\u001b[0m\u001b[0m\n\u001b[1;32m      4\u001b[0m \u001b[0mhist2\u001b[0m\u001b[0;34m[\u001b[0m\u001b[0;36m0\u001b[0m\u001b[0;34m:\u001b[0m\u001b[0mk\u001b[0m\u001b[0;34m//\u001b[0m\u001b[0;36m2\u001b[0m\u001b[0;34m]\u001b[0m \u001b[0;34m=\u001b[0m \u001b[0mhist2\u001b[0m\u001b[0;34m[\u001b[0m\u001b[0;36m0\u001b[0m\u001b[0;34m:\u001b[0m\u001b[0mk\u001b[0m\u001b[0;34m//\u001b[0m\u001b[0;36m2\u001b[0m\u001b[0;34m]\u001b[0m\u001b[0;34m+\u001b[0m\u001b[0;36m0.01\u001b[0m\u001b[0;34m\u001b[0m\u001b[0m\n\u001b[1;32m      5\u001b[0m \u001b[0mhist2\u001b[0m\u001b[0;34m[\u001b[0m\u001b[0mk\u001b[0m\u001b[0;34m//\u001b[0m\u001b[0;36m2\u001b[0m\u001b[0;34m:\u001b[0m\u001b[0;34m]\u001b[0m \u001b[0;34m=\u001b[0m \u001b[0mhist2\u001b[0m\u001b[0;34m[\u001b[0m\u001b[0mk\u001b[0m\u001b[0;34m//\u001b[0m\u001b[0;36m2\u001b[0m\u001b[0;34m:\u001b[0m\u001b[0;34m]\u001b[0m\u001b[0;34m-\u001b[0m\u001b[0;36m0.01\u001b[0m\u001b[0;34m\u001b[0m\u001b[0m\n",
      "\u001b[0;31mNameError\u001b[0m: name 'm' is not defined"
     ]
    }
   ],
   "source": [
    "mat = np.random.multinomial(m, hist, (d_img,))/m\n",
    "\n",
    "hist2 = np.copy(hist)\n",
    "hist2[0:k//2] = hist2[0:k//2]+0.01\n",
    "hist2[k//2:] = hist2[k//2:]-0.01\n",
    "print(hist2)\n",
    "mat2 = np.random.multinomial(m, hist2, (d_img//2,))/m\n",
    "\n",
    "hist3 = np.copy(hist)\n",
    "hist3[0:k//2] = hist3[0:k//2]-0.01\n",
    "hist3[k//2:] = hist3[k//2:]+0.01\n",
    "print(hist3)\n",
    "mat3 = np.random.multinomial(m, hist3, (d_img//2,))/m\n",
    "\n",
    "ave = np.stack([np.mean(mat, axis=0)]*d_img, axis=0)\n",
    "ave2 = np.stack([np.mean(mat2, axis=0)]*d_img, axis=0)\n",
    "ave3 = np.stack([np.mean(mat3, axis=0)]*d_img, axis=0)\n",
    "\n",
    "mat23 = np.concatenate((mat2, mat3))\n",
    "\n",
    "n_effective(mat)\n",
    "\n",
    "v = np.diag(corr_cov(mat23, output='cov'))\n",
    "p = np.mean(mat23, axis=0)\n",
    "n_eff = p*(1-p)/v\n",
    "np.mean(n_eff)"
   ]
  },
  {
   "cell_type": "code",
   "execution_count": null,
   "metadata": {
    "collapsed": true
   },
   "outputs": [],
   "source": []
  }
 ],
 "metadata": {
  "kernelspec": {
   "display_name": "Python 3",
   "language": "python",
   "name": "python3"
  },
  "language_info": {
   "codemirror_mode": {
    "name": "ipython",
    "version": 3
   },
   "file_extension": ".py",
   "mimetype": "text/x-python",
   "name": "python",
   "nbconvert_exporter": "python",
   "pygments_lexer": "ipython3",
   "version": "3.6.1"
  }
 },
 "nbformat": 4,
 "nbformat_minor": 2
}
